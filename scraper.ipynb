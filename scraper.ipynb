{
 "cells": [
  {
   "cell_type": "code",
   "execution_count": null,
   "id": "a1b2c3d4",
   "metadata": {},
   "outputs": [],
   "source": [
    "!pip install requests beautifulsoup4"
   ]
  },
  {
   "cell_type": "code",
   "execution_count": null,
   "id": "e5f6g7h8",
   "metadata": {},
   "outputs": [],
   "source": [
    "import requests\n",
    "from bs4 import BeautifulSoup\n",
    "\n",
    "def scrape_oecd_search_urls(query, num_pages=5):\n",
    "    base_url = \"https://search.oecd.org\"\n",
    "    search_url = f\"{base_url}/search?q={query}\"\n",
    "    urls = []\n",
    "\n",
    "    for page in range(1, num_pages + 1):\n",
    "        response = requests.get(f\"{search_url}&page={page}\")\n",
    "        if response.status_code != 200:\n",
    "            print(f\"Failed to retrieve page {page}\")\n",
    "            continue\n",
    "\n",
    "        soup = BeautifulSoup(response.text, 'html.parser')\n",
    "        links = soup.find_all('a', href=True)\n",
    "\n",
    "        for link in links:\n",
    "            url = link['href']\n",
    "            if url.startswith('/'):\n",
    "                url = base_url + url\n",
    "            if base_url in url:\n",
    "                urls.append(url)\n",
    "\n",
    "    return urls\n",
    "\n",
    "# Example usage\n",
    "query = \"economics\"\n",
    "urls = scrape_oecd_search_urls(query)\n",
    "for url in urls:\n",
    "    print(url)\n"
   ]
  }
 ],
 "metadata": {
  "kernelspec": {
   "display_name": "Python 3",
   "language": "python",
   "name": "python3"
  },
  "language_info": {
   "codemirror_mode": {
    "name": "ipython",
    "version": 3
   },
   "file_extension": ".py",
   "mimetype": "text/x-python",
   "name": "python",
   "nbconvert_exporter": "python",
   "pygments_lexer": "ipython3",
   "version": "3.8.5"
  }
 },
 "nbformat": 4,
 "nbformat_minor": 4
}
